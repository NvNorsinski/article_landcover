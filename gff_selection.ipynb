{
 "cells": [
  {
   "cell_type": "code",
   "execution_count": 1,
   "metadata": {},
   "outputs": [],
   "source": [
    "\n",
    "import os\n",
    "\n",
    "import geopandas as gpd\n",
    "import pandas as pd\n",
    "from numpy import mean\n",
    "\n",
    "from numpy import std\n",
    "\n",
    "import numpy as np\n",
    "import re\n"
   ]
  },
  {
   "cell_type": "code",
   "execution_count": 3,
   "metadata": {},
   "outputs": [],
   "source": [
    "points1 = '/mnt/eo/projekt/2021_STATeo/01_Data/02_labelled_prepared/Punkte_stat2austria/eckartsau_dgm_S1.gpkg' \n",
    "\n",
    "points1 = gpd.read_file(points1)\n",
    "points1 = pd.DataFrame(points1.drop(columns='geometry'))\n",
    "\n",
    "\n",
    "points2 = '/mnt/eo/projekt/2021_STATeo/01_Data/02_labelled_prepared/Punkte_stat2austria/Friesach_dgm_S1.gpkg' \n",
    "\n",
    "points2 = gpd.read_file(points2)\n",
    "points2 = pd.DataFrame(points2.drop(columns='geometry'))\n",
    "\n",
    "\n",
    "points3 = '/mnt/eo/projekt/2021_STATeo/01_Data/02_labelled_prepared/Punkte_stat2austria/Mattsee_dgm_S1.gpkg' \n",
    "\n",
    "points3 = gpd.read_file(points3)\n",
    "points3 = pd.DataFrame(points3.drop(columns='geometry'))\n",
    "\n",
    "\n",
    "points4 = '/mnt/eo/projekt/2021_STATeo/01_Data/02_labelled_prepared/Punkte_stat2austria/Mieming_dgm_S1.gpkg' \n",
    "\n",
    "points4 = gpd.read_file(points4)\n",
    "points4 = pd.DataFrame(points4.drop(columns='geometry'))\n",
    "\n",
    "\n",
    "points5 = '/mnt/eo/projekt/2021_STATeo/01_Data/02_labelled_prepared/Punkte_stat2austria/Ternitz_dgm_S1.gpkg' \n",
    "\n",
    "points5 = gpd.read_file(points5)\n",
    "points5 = pd.DataFrame(points5.drop(columns='geometry'))\n",
    "\n",
    "\n",
    "points6 = '/mnt/eo/projekt/2021_STATeo/01_Data/02_labelled_prepared/Punkte_stat2austria/Tobaj_dgm_S1.gpkg' \n",
    "\n",
    "points6 = gpd.read_file(points6)\n",
    "points6 = pd.DataFrame(points6.drop(columns='geometry'))\n",
    "\n",
    "\n",
    "points7 = '/mnt/eo/projekt/2021_STATeo/01_Data/02_labelled_prepared/Punkte_stat2austria/Villach_dgm_S1.gpkg' \n",
    "\n",
    "points7 = gpd.read_file(points7)\n",
    "points7 = pd.DataFrame(points7.drop(columns='geometry'))\n",
    "\n",
    "\n",
    "points8 = '/mnt/eo/projekt/2021_STATeo/01_Data/02_labelled_prepared/Punkte_stat2austria/Weitra_dgm_S1.gpkg' \n",
    "\n",
    "points8 = gpd.read_file(points8)\n",
    "points8 = pd.DataFrame(points8.drop(columns='geometry'))\n",
    "\n",
    "\n",
    "points9 = '/mnt/eo/projekt/2021_STATeo/01_Data/02_labelled_prepared/Punkte_stat2austria/sportplaetze_dgm_S1.gpkg' \n",
    "\n",
    "points9 = gpd.read_file(points9)\n",
    "points9 = pd.DataFrame(points9.drop(columns='geometry'))\n",
    "\n",
    "\n",
    "points10 = '/mnt/eo/projekt/2021_STATeo/01_Data/02_labelled_prepared/Punkte_stat2austria/gletscher_data_dgm_S1.gpkg' \n",
    "\n",
    "points10 = gpd.read_file(points10)\n",
    "points10 = pd.DataFrame(points10.drop(columns='geometry'))\n",
    "\n",
    "points11 = '/mnt/eo/projekt/2021_STATeo/01_Data/02_labelled_prepared/Punkte_stat2austria/neusiedler_see_dgm_S1.gpkg' \n",
    "\n",
    "points11 = gpd.read_file(points11)\n",
    "points11 = pd.DataFrame(points11.drop(columns='geometry'))\n"
   ]
  },
  {
   "cell_type": "code",
   "execution_count": 4,
   "metadata": {},
   "outputs": [],
   "source": [
    "df = pd.concat([points1, points2, points3, points4, points5, points5, points6, points7, points8, points9, points10, points11])\n",
    "df = df.fillna(np.nan)\n",
    "\n",
    "df['Response'] = df['Response'].replace('bare rock and screes', 'Bare rock and screes')"
   ]
  },
  {
   "cell_type": "code",
   "execution_count": 5,
   "metadata": {},
   "outputs": [],
   "source": [
    "data = df\n",
    "target = 'Response'\n",
    "response = df['Response']\n",
    "data = df.iloc[:, 0:(len(data.columns)-1)]\n",
    "X = data\n",
    "y = response\n",
    "\n",
    "\n",
    "import dill\n",
    "path_parent = os.path.dirname(os.getcwd())\n",
    "dill.load_session('/mnt/eo/projekt/2021_STATeo/01_Data/Österreich/Model/Model_Oesterreich4.db')\n",
    "\n"
   ]
  },
  {
   "cell_type": "code",
   "execution_count": 6,
   "metadata": {},
   "outputs": [],
   "source": [
    "# select groups\n",
    "# gruppe 1 sentinel 2 bands\n",
    "# gruppe 2 NDVI\n",
    "# gruppe 3 NDWI\n",
    "# gruppe 4 DGM_Slope\n",
    "\n",
    "# gruppe 5 Sentinel 1\n",
    "\n",
    "g1 = data.loc[:,[True if re.search('B+',columns) else False for columns in data.columns]]\n",
    "g2 = data.loc[:,['NDVI' in i for i in data.columns]]\n",
    "g3 = data.loc[:,['NDWI' in i for i in data.columns]]\n",
    "g4 = data.loc[:,['DGM' in i for i in data.columns]]\n",
    "g4_5 = data.loc[:,['SLOPE' in i for i in data.columns]]\n",
    "g5 = data.loc[:,['S1' in i for i in data.columns]]"
   ]
  },
  {
   "cell_type": "code",
   "execution_count": 8,
   "metadata": {},
   "outputs": [],
   "source": [
    "g1 = g1.reset_index()\n",
    "g2 = g2.reset_index()\n",
    "g3 = g3.reset_index()\n",
    "g4 = g4.reset_index()\n",
    "g4_5 = g4_5.reset_index()\n",
    "g5 = g5.reset_index()"
   ]
  },
  {
   "cell_type": "code",
   "execution_count": 9,
   "metadata": {},
   "outputs": [],
   "source": [
    "parameters = {\n",
    "    \"max_depth\": [list_params_5['max_depth']],\n",
    "    \"learning_rate\": [list_params_5['learning_rate']],\n",
    "    \"max_bins\":[list_params_5['max_bins']],\n",
    "    \"max_iter\":[list_params_5['max_iter']],\n",
    "    \"l2_regularization\":[list_params_5['l2_regularization']]\n",
    "}\n"
   ]
  },
  {
   "cell_type": "code",
   "execution_count": 10,
   "metadata": {},
   "outputs": [],
   "source": [
    "final_model = HistGradientBoostingClassifier(max_depth = max_dpth, learning_rate = learner_rate,\n",
    " max_bins = mx_bins, max_iter = mx_iter, l2_regularization = regularization)\n"
   ]
  },
  {
   "cell_type": "code",
   "execution_count": 11,
   "metadata": {},
   "outputs": [
    {
     "name": "stdout",
     "output_type": "stream",
     "text": [
      "0.8666113168011997\n",
      "0.8441704879999254\n",
      "0.838222971546555\n",
      "0.6924417627732643\n",
      "0.4506563274192606\n",
      "0.7775065947613709\n",
      "5\n",
      "0.8665257097368031\n",
      "0.8674982150641489\n",
      "0.8833597849428145\n",
      "0.8746003598546046\n",
      "0.8706122081387998\n",
      "4\n",
      "0.8844514868772675\n",
      "0.8837437931485937\n",
      "0.8866689716955991\n",
      "0.8849528575494416\n",
      "3\n",
      "0.8857171165177894\n",
      "0.8866947994532574\n",
      "0.8881017124597997\n",
      "2\n",
      "0.8876325697021595\n",
      "0.888647033722647\n",
      "1\n",
      "0.8881745541914009\n",
      "0\n"
     ]
    }
   ],
   "source": [
    "a = [g1, g2, g3, g4, g4_5, g5]\n",
    "group_idx = list(range(0, len(a)))\n",
    "group_idx\n",
    "\n",
    "cv = RepeatedStratifiedKFold(n_splits = 5, n_repeats = 25)\n",
    "scores_development = []\n",
    "\n",
    "variable_idxs = 0\n",
    "best_score = 0\n",
    "X = 0\n",
    "Xs = 0\n",
    "idx_development = []\n",
    "start_length = len(group_idx)\n",
    "\n",
    "while len(group_idx) > 0:\n",
    "    best_score = 0\n",
    "    for i in range(0, len(group_idx)):\n",
    "        idx = group_idx[i]\n",
    "        if len(group_idx) == start_length:\n",
    "            Xtemp = a[idx]\n",
    "        else:\n",
    "            \n",
    "            Xtemp = pd.concat([Xe, a[idx]], axis = 1, join = 'inner')\n",
    "\n",
    "        n_scores = cross_val_score(final_model, y = response, X = Xtemp, scoring='balanced_accuracy', cv=cv, n_jobs=-1)\n",
    "        mean_score = np.mean(n_scores)\n",
    "        print(mean_score)\n",
    "        if mean_score > best_score:\n",
    "            variable_idxs = i\n",
    "            best_score = mean_score\n",
    "            best_idx = idx\n",
    "\n",
    "    Xs = a[best_idx]\n",
    "    if len(group_idx) == start_length:\n",
    "        Xe = Xs\n",
    "    else:\n",
    "        \n",
    "        Xe =  pd.concat([Xe, Xs], axis = 1, join = 'inner')\n",
    "    \n",
    "    group_idx.pop(variable_idxs)\n",
    "    print(len(group_idx))\n",
    "    scores_development.append(best_score)\n",
    "    \n",
    "    idx_development.append(best_idx)\n"
   ]
  },
  {
   "cell_type": "code",
   "execution_count": 12,
   "metadata": {},
   "outputs": [],
   "source": [
    "textfile = open(\"/mnt/eo/projekt/2021_STATeo/01_Data/score_dev_austria22.txt\", \"w\")\n",
    "for element in scores_development:\n",
    "    textfile.write(str(element) + \"\\n\")\n",
    "textfile.close()"
   ]
  }
 ],
 "metadata": {
  "kernelspec": {
   "display_name": "Python 3.9.7 ('testenv')",
   "language": "python",
   "name": "python3"
  },
  "language_info": {
   "codemirror_mode": {
    "name": "ipython",
    "version": 3
   },
   "file_extension": ".py",
   "mimetype": "text/x-python",
   "name": "python",
   "nbconvert_exporter": "python",
   "pygments_lexer": "ipython3",
   "version": "3.9.7"
  },
  "orig_nbformat": 4,
  "vscode": {
   "interpreter": {
    "hash": "21a30844f4af41307169c4cbf4ce9b113a138efd37517b6ed15f26541fb85b6c"
   }
  }
 },
 "nbformat": 4,
 "nbformat_minor": 2
}
